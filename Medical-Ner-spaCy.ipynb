{
 "cells": [
  {
   "cell_type": "code",
   "execution_count": 1,
   "metadata": {},
   "outputs": [],
   "source": [
    "import nltk\n",
    "import json\n",
    "import logging\n",
    "import sys\n",
    "import plac\n",
    "import logging\n",
    "import argparse\n",
    "import os\n",
    "import json\n",
    "import pickle\n",
    "import pandas as pd"
   ]
  },
  {
   "cell_type": "code",
   "execution_count": 2,
   "metadata": {},
   "outputs": [
    {
     "name": "stdout",
     "output_type": "stream",
     "text": [
      "Created blank 'en' model\n"
     ]
    }
   ],
   "source": [
    "import spacy\n",
    "\n",
    "nlp = spacy.blank(\"en\")  # create blank Language class\n",
    "print(\"Created blank 'en' model\")\n",
    "\n",
    "if 'ner' not in nlp.pipe_names :\n",
    "    ner = nlp.create_pipe('ner')\n",
    "    nlp.add_pipe(ner, last=True)\n",
    "else :\n",
    "    ner = nlp.get_pipe(\"ner\")"
   ]
  },
  {
   "cell_type": "code",
   "execution_count": 3,
   "metadata": {},
   "outputs": [
    {
     "name": "stdout",
     "output_type": "stream",
     "text": [
      "{\"content\" :\"mild patient: fever, respiratory and other symptoms, the manifestation of pneumonia can be seen on imaging.\", \"annotation\": [{\"label\":[\"condition\"],\"points\":[{\"text\":\"fever\",\"start\":14,\"end\":18}]},{\"label\":[\"condition\"],\"points\":[{\"text\":\"respiratory\",\"start\":21,\"end\":31}]},{\"label\":[\"condition\"],\"points\":[{\"text\":\"symptoms\",\"start\":43,\"end\":50}]},{\"label\":[\"condition\"],\"points\":[{\"text\":\"pneumonia\",\"start\":74,\"end\":82}]},{\"label\":[\"procedure\"],\"points\":[{\"text\":\"imaging\",\"start\":99,\"end\":105}]}]}\n",
      "\n"
     ]
    }
   ],
   "source": [
    "lines=[]\n",
    "input_file=\"C:/Users/jaysh/OneDrive/Desktop/training.json\"\n",
    "with open(input_file, 'r') as f:\n",
    "    lines = f.readline()\n",
    "print(lines)"
   ]
  },
  {
   "cell_type": "code",
   "execution_count": 4,
   "metadata": {},
   "outputs": [
    {
     "name": "stdout",
     "output_type": "stream",
     "text": [
      "[('mild patient: fever, respiratory and other symptoms, the manifestation of pneumonia can be seen on imaging.', {'entities': [(14, 19, 'condition'), (21, 32, 'condition'), (43, 51, 'condition'), (74, 83, 'condition'), (99, 106, 'procedure')]})]\n"
     ]
    }
   ],
   "source": [
    "def main(input_file=\"C:/Users/jaysh/OneDrive/Desktop/training.json\", output_file=\"trainingNerMed_plac.pkl\"):\n",
    "    try:\n",
    "        training_data = []\n",
    "        lines=[]\n",
    "        with open(input_file, 'r') as f:\n",
    "            lines = f.readlines()\n",
    "\n",
    "        for line in lines:\n",
    "            data = json.loads(line)\n",
    "            text = data['content']\n",
    "            entities = []\n",
    "            for annotation in data['annotation']:\n",
    "                point = annotation['points'][0]\n",
    "                labels = annotation['label']\n",
    "                if not isinstance(labels, list):\n",
    "                    labels = [labels]\n",
    "\n",
    "                for label in labels:\n",
    "                    entities.append((point['start'], point['end'] + 1 ,label))\n",
    "\n",
    "\n",
    "            training_data.append((text, {\"entities\" : entities}))\n",
    "\n",
    "        print(training_data)\n",
    "\n",
    "        with open(output_file, 'wb') as fp:\n",
    "            pickle.dump(training_data, fp)\n",
    "\n",
    "    except Exception as e:\n",
    "        logging.exception(\"Unable to process \" + input_file + \"\\n\" + \"error = \" + str(e))\n",
    "        return None\n",
    "if __name__ == '__main__':\n",
    "    main()"
   ]
  },
  {
   "cell_type": "code",
   "execution_count": 5,
   "metadata": {},
   "outputs": [],
   "source": [
    "train_data= pd.read_pickle(\"trainingNerMed_plac.pkl\")"
   ]
  },
  {
   "cell_type": "code",
   "execution_count": 6,
   "metadata": {},
   "outputs": [
    {
     "data": {
      "text/plain": [
       "[('mild patient: fever, respiratory and other symptoms, the manifestation of pneumonia can be seen on imaging.',\n",
       "  {'entities': [(14, 19, 'condition'),\n",
       "    (21, 32, 'condition'),\n",
       "    (43, 51, 'condition'),\n",
       "    (74, 83, 'condition'),\n",
       "    (99, 106, 'procedure')]})]"
      ]
     },
     "execution_count": 6,
     "metadata": {},
     "output_type": "execute_result"
    }
   ],
   "source": [
    "train_data"
   ]
  },
  {
   "cell_type": "code",
   "execution_count": 7,
   "metadata": {},
   "outputs": [],
   "source": [
    "# Building Model using Training data\n",
    "import spacy\n",
    "import random\n",
    "def train_spacy(data,iterations):\n",
    "    train_data = data\n",
    "    nlp = spacy.blank('en')  # create blank Language class\n",
    "    # create the built-in pipeline components and add them to the pipeline\n",
    "    # nlp.create_pipe works for built-ins that are registered with spaCy\n",
    "    if 'ner' not in nlp.pipe_names:\n",
    "        ner = nlp.create_pipe('ner')\n",
    "        nlp.add_pipe(ner, last=True)\n",
    "       \n",
    "\n",
    "    # add labels\n",
    "    for _, annotations in train_data:\n",
    "         for ent in annotations.get('entities'):\n",
    "            ner.add_label(ent[2])\n",
    "\n",
    "    # get names of other pipes to disable them during training\n",
    "    other_pipes = [pipe for pipe in nlp.pipe_names if pipe != 'ner']\n",
    "    with nlp.disable_pipes(*other_pipes):  # only train NER\n",
    "        optimizer = nlp.begin_training()\n",
    "        for itn in range(iterations):\n",
    "            #print(\"Starting iteration \" + str(itn))\n",
    "            #random.shuffle(train_data)\n",
    "            losses = {}\n",
    "            for text, annotations in train_data:\n",
    "                nlp.update(\n",
    "                    [text],  # batch of texts\n",
    "                    [annotations],  # batch of annotations\n",
    "                    drop=0.2,  # dropout - make it harder to memorise data\n",
    "                    sgd=optimizer,  # callable to update weights\n",
    "                    losses=losses)\n",
    "            #print(losses)\n",
    "    return nlp\n",
    "\n",
    "prd= train_spacy(train_data, 500)\n",
    "\n"
   ]
  },
  {
   "cell_type": "code",
   "execution_count": 8,
   "metadata": {},
   "outputs": [],
   "source": [
    "# Save our trained Model\n",
    "# modelfile = input(\"Input your model name:\")\n",
    "# prd.to_disk(modelfile)"
   ]
  },
  {
   "cell_type": "code",
   "execution_count": 9,
   "metadata": {},
   "outputs": [
    {
     "name": "stdout",
     "output_type": "stream",
     "text": [
      "meet 17 21 condition\n",
      "severe 40 46 condition\n",
      "with 65 69 condition\n",
      "breath 107 113 condition\n",
      "SPO2≤93 148 155 condition\n",
      "PaO2 159 163 condition\n",
      "FiO2≤300mmHg 164 176 procedure\n"
     ]
    }
   ],
   "source": [
    "test_text = \"mild patient: fever, respiratory and other symptoms, the manifestation of pneumonia can be seen on imaging.\"\n",
    "P2=\"severe patients: meet the definition of severe pneumonia (comply with any of the followings): Shortness of breath, RR≥30 bpm ; In a resting state : SPO2≤93% ; PaO2/FiO2≤300mmHg.\"\n",
    "doc = prd(P2)\n",
    "for ent in doc.ents:\n",
    "    print(ent.text, ent.start_char, ent.end_char, ent.label_)\n",
    "    #print(ent.text,ent.label_)"
   ]
  },
  {
   "cell_type": "code",
   "execution_count": 16,
   "metadata": {},
   "outputs": [],
   "source": [
    "def main(input_file=\"C:/Users/jaysh/OneDrive/Desktop/training2.json\", output_file=\"trainingNerMed2_plac.pkl\"):\n",
    "    try:\n",
    "        training_data = []\n",
    "        lines=[]\n",
    "        with open(input_file, 'r') as f:\n",
    "            lines = f.readlines()\n",
    "        for line in lines:\n",
    "            data = json.loads(line)\n",
    "            \n",
    "            \n",
    "            text = data['content']\n",
    "            entities = []\n",
    "            for annotation in data['annotation']:\n",
    "                point = annotation['points'][0]\n",
    "                labels = annotation['label']\n",
    "                if not isinstance(labels, list):\n",
    "                    labels = [labels]\n",
    "\n",
    "                for label in labels:\n",
    "                    entities.append((point['start'], point['end'] + 1 ,label))\n",
    "\n",
    "\n",
    "            training_data.append((text, {\"entities\" : entities}))\n",
    "\n",
    "#         print(training_data)\n",
    "\n",
    "        with open(output_file, 'wb') as fp:\n",
    "            pickle.dump(training_data, fp)\n",
    "\n",
    "    except Exception as e:\n",
    "        logging.exception(\"Unable to process \" + input_file + \"\\n\" + \"error = \" + str(e))\n",
    "        return None\n",
    "\n",
    "if __name__ == '__main__':\n",
    "    main()"
   ]
  },
  {
   "cell_type": "code",
   "execution_count": 17,
   "metadata": {},
   "outputs": [
    {
     "data": {
      "text/plain": [
       "[('mild patient: fever, respiratory and other symptoms, the manifestation of pneumonia can be seen on imaging.',\n",
       "  {'entities': [(14, 19, 'condition'),\n",
       "    (21, 32, 'condition'),\n",
       "    (43, 51, 'condition'),\n",
       "    (74, 83, 'condition'),\n",
       "    (99, 106, 'procedure')]}),\n",
       " ('severe patients: meet the definition of severe pneumonia (comply with any of the followings): Shortness of breath, RR>=30 bpm; In a resting state : SPO2<=93%; PaO2/FiO2<=300mmHg.',\n",
       "  {'entities': [(47, 56, 'condition'),\n",
       "    (107, 113, 'condition'),\n",
       "    (115, 125, 'value'),\n",
       "    (148, 157, 'measurement'),\n",
       "    (159, 177, 'measurement')]})]"
      ]
     },
     "execution_count": 17,
     "metadata": {},
     "output_type": "execute_result"
    }
   ],
   "source": [
    "train_data2= pd.read_pickle(\"trainingNerMed2_plac.pkl\")\n",
    "train_data2"
   ]
  },
  {
   "cell_type": "code",
   "execution_count": 18,
   "metadata": {},
   "outputs": [],
   "source": [
    "prd2=train_spacy(train_data2,500)"
   ]
  },
  {
   "cell_type": "code",
   "execution_count": 23,
   "metadata": {},
   "outputs": [],
   "source": [
    "Pkl_Filename = \"Pickle_Ner_Model.pkl\"  \n",
    "\n",
    "with open(Pkl_Filename, 'wb') as file:  \n",
    "    pickle.dump(prd2, file)"
   ]
  },
  {
   "cell_type": "code",
   "execution_count": 22,
   "metadata": {},
   "outputs": [
    {
     "name": "stdout",
     "output_type": "stream",
     "text": [
      "pneumonia 47 56 condition\n",
      "breath 107 113 condition\n",
      "RR≥30 bpm 115 124 value\n",
      "SPO2≤93% 148 156 measurement\n",
      "PaO2/FiO2≤300mmHg 158 175 measurement\n"
     ]
    }
   ],
   "source": [
    "P2 = \"severe patients: meet the definition of severe pneumonia (comply with any of the followings): Shortness of breath, RR≥30 bpm ; In a resting state : SPO2≤93%; PaO2/FiO2≤300mmHg.\"\n",
    "doc = prd2(P2)\n",
    "for ent in doc.ents:\n",
    "    print(ent.text, ent.start_char, ent.end_char, ent.label_)\n",
    "    #print(ent.text,ent.label_)"
   ]
  },
  {
   "cell_type": "code",
   "execution_count": 15,
   "metadata": {},
   "outputs": [
    {
     "data": {
      "text/plain": [
       "severe patients: meet the definition of severe pneumonia (comply with any of the followings): Shortness of breath, RR<= 30 bpm ; In a resting state : SPO2≤93%; PaO2/FiO2≤300mmHg."
      ]
     },
     "execution_count": 15,
     "metadata": {},
     "output_type": "execute_result"
    }
   ],
   "source": [
    "doc"
   ]
  },
  {
   "cell_type": "code",
   "execution_count": null,
   "metadata": {},
   "outputs": [],
   "source": []
  }
 ],
 "metadata": {
  "kernelspec": {
   "display_name": "Python 3",
   "language": "python",
   "name": "python3"
  },
  "language_info": {
   "codemirror_mode": {
    "name": "ipython",
    "version": 3
   },
   "file_extension": ".py",
   "mimetype": "text/x-python",
   "name": "python",
   "nbconvert_exporter": "python",
   "pygments_lexer": "ipython3",
   "version": "3.7.3"
  }
 },
 "nbformat": 4,
 "nbformat_minor": 2
}
